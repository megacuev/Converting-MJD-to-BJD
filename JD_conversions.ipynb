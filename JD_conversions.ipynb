{
 "cells": [
  {
   "cell_type": "markdown",
   "id": "8ab61cb4",
   "metadata": {},
   "source": [
    "### convert the PTF data MJD to BJD to match the ZTF data. "
   ]
  },
  {
   "cell_type": "markdown",
   "id": "e85bfe94",
   "metadata": {},
   "source": [
    "Currently, our PTF data is in MJD and looks like \"56078.42698\", and our ZTF data is in BJD (TDB) and looks like \"2458268.94714\"."
   ]
  },
  {
   "cell_type": "code",
   "execution_count": 1,
   "id": "d1ab0e14",
   "metadata": {},
   "outputs": [
    {
     "name": "stdout",
     "output_type": "stream",
     "text": [
      "2456078.92698\n"
     ]
    }
   ],
   "source": [
    "MJD = 56078.42698\n",
    "JD = MJD+2400000.5\n",
    "print(JD)"
   ]
  },
  {
   "cell_type": "markdown",
   "id": "451c4f9e",
   "metadata": {},
   "source": [
    "Kupfer game me the following code to use."
   ]
  },
  {
   "cell_type": "code",
   "execution_count": 2,
   "id": "0dd6c3d2",
   "metadata": {},
   "outputs": [
    {
     "data": {
      "text/plain": [
       "2456078.9243315333"
      ]
     },
     "execution_count": 2,
     "metadata": {},
     "output_type": "execute_result"
    }
   ],
   "source": [
    "from astropy import time, coordinates as coord, units as u \n",
    "\n",
    "#a singular MJD for \"J003950.86+405332.0\" along with its RA and DEC in deg.:\n",
    "#mjd = 56078.42698\n",
    "RA = 9.96183\n",
    "DEC = 40.89221\n",
    "\n",
    "def MJD2BJD(MJD,ra,dec,verbose=False):\n",
    "    target = coord.SkyCoord(ra,dec,unit=(u.deg, u.deg), frame='icrs')\n",
    "    \n",
    "    #observatory = coord.EarthLocation.of_site('Palomar')\n",
    "    observatory = coord.EarthLocation.from_geodetic(243.137,33.356,1706)  #Palomar\n",
    "    #observatory = coord.EarthLocation.from_geodetic(204.5253,19.8260,4145) #Keck\n",
    "    #observatory = coord.EarthLocation.from_geodetic(342.118,28.761,2332) #WHT\n",
    "    #observatory = coord.EarthLocation.from_geodetic(203.7432,20.7082,3052) #Haleakala (OGG)\n",
    "    #observatory = coord.EarthLocation.from_geodetic(149.0685,-31.2749,1165) #Siding Springs (COJ)\n",
    "  \n",
    "    times = time.Time(MJD+0.0001736111, format='mjd', scale='utc', location=observatory)\n",
    "    ltt_bary = times.light_travel_time(target)\n",
    "    time_barycentre = times.tdb + ltt_bary\n",
    "    return time_barycentre.mjd\n",
    "#this is actually mbjd\n",
    "bjd = MJD2BJD(mjd,RA,DEC,verbose=False)\n",
    "#NOW this is bjd\n",
    "bjd+2400000.5 "
   ]
  },
  {
   "cell_type": "code",
   "execution_count": 111,
   "id": "2b1952ef",
   "metadata": {},
   "outputs": [
    {
     "name": "stdout",
     "output_type": "stream",
     "text": [
      "MJD: [56078.42698 56078.45757 56079.42315 ... 57761.12808 57798.12679\n",
      " 57798.14851]\n",
      "length of MJD: 1643\n",
      "newjd: [2456078.92433153 2456078.95492326 2456079.92055729 ... 2457761.6298422\n",
      " 2457798.62552567 2457798.64724403]\n",
      "length of newjd: 1643\n"
     ]
    }
   ],
   "source": [
    "#trying to accomodate to a list of MJDs:\n",
    "\n",
    "import numpy as np\n",
    "\n",
    "data = np.loadtxt(open('/Volumes/MeganSSD/KupferResearch/Data/old_data/J003950.86+405332.0.csv'),\n",
    "                  delimiter=\",\", skiprows=1)\n",
    "\n",
    "MJD = data[:,0]\n",
    "print('MJD:',MJD)\n",
    "print('length of MJD:',len(MJD))\n",
    "\n",
    "RA = 9.96183\n",
    "DEC = 40.89221\n",
    "\n",
    "def MJD2BJD(MJD,ra,dec,verbose=False):\n",
    "    target = coord.SkyCoord(ra,dec,unit=(u.deg, u.deg), frame='icrs')\n",
    "    \n",
    "    #observatory = coord.EarthLocation.of_site('Palomar')\n",
    "    observatory = coord.EarthLocation.from_geodetic(243.137,33.356,1706)  #Palomar\n",
    "    #observatory = coord.EarthLocation.from_geodetic(204.5253,19.8260,4145) #Keck\n",
    "    #observatory = coord.EarthLocation.from_geodetic(342.118,28.761,2332) #WHT\n",
    "    #observatory = coord.EarthLocation.from_geodetic(203.7432,20.7082,3052) #Haleakala (OGG)\n",
    "    #observatory = coord.EarthLocation.from_geodetic(149.0685,-31.2749,1165) #Siding Springs (COJ)\n",
    "\n",
    "    times = time.Time(MJD+0.0001736111, format='mjd', scale='utc', location=observatory)\n",
    "    #0.0001736111 is 15 seconds since BJD is a 'mid-time' exposure\n",
    "    ltt_bary = times.light_travel_time(target)\n",
    "    time_barycentre = times.tdb + ltt_bary\n",
    "    \n",
    "    return time_barycentre.mjd\n",
    "\n",
    "bjd = MJD2BJD(MJD,RA,DEC,verbose=False)\n",
    "\n",
    "#goes through the array of MJD times per target, and converts them to BJD\n",
    "newjd = bjd+2400000.5\n",
    "print('newjd:',newjd)\n",
    "print('length of newjd:',len(newjd))\n",
    "    \n",
    "#np.savetxt('/Volumes/MeganSSD/KupferResearch/Data/old_data/newbjd/outputbjd.txt', newjd, header ='BJD', \n",
    "#           delimiter=',', fmt='%1.5f')"
   ]
  },
  {
   "cell_type": "code",
   "execution_count": 89,
   "id": "84ece2e7",
   "metadata": {},
   "outputs": [
    {
     "name": "stdout",
     "output_type": "stream",
     "text": [
      "[[5.60784270e+04 1.87621982e+01 1.01258426e-01]\n",
      " [5.60784576e+04 1.89167413e+01 1.09500645e-01]\n",
      " [5.60794232e+04 1.88100861e+01 1.04395794e-01]\n",
      " ...\n",
      " [5.77611281e+04 1.86092005e+01 1.36899699e-01]\n",
      " [5.77981268e+04 1.85907723e+01 1.19446191e-01]\n",
      " [5.77981485e+04 1.87574566e+01 2.27595593e-01]]\n"
     ]
    }
   ],
   "source": [
    "data = np.loadtxt(open('/Volumes/MeganSSD/KupferResearch/Data/old_data/J003950.86+405332.0.csv'),\n",
    "                  delimiter=\",\", skiprows=1)\n",
    "print(data)\n",
    "\n"
   ]
  },
  {
   "cell_type": "code",
   "execution_count": 105,
   "id": "8b5e1d45",
   "metadata": {},
   "outputs": [],
   "source": [
    "newjd = np.reshape(newjd, (data.shape[0],1))   # adjust dimension of the new array\n",
    "result = np.append(data, newjd, 1)  "
   ]
  },
  {
   "cell_type": "code",
   "execution_count": 107,
   "id": "6176d6ef",
   "metadata": {},
   "outputs": [],
   "source": [
    "np.savetxt('/Volumes/MeganSSD/KupferResearch/Data/old_data/J003950.86+405332.0.csv', result, delimiter=\" \", fmt=\"%s\")"
   ]
  },
  {
   "cell_type": "code",
   "execution_count": null,
   "id": "3c861054",
   "metadata": {},
   "outputs": [],
   "source": []
  }
 ],
 "metadata": {
  "kernelspec": {
   "display_name": "Python 3",
   "language": "python",
   "name": "python3"
  },
  "language_info": {
   "codemirror_mode": {
    "name": "ipython",
    "version": 3
   },
   "file_extension": ".py",
   "mimetype": "text/x-python",
   "name": "python",
   "nbconvert_exporter": "python",
   "pygments_lexer": "ipython3",
   "version": "3.8.10"
  }
 },
 "nbformat": 4,
 "nbformat_minor": 5
}
